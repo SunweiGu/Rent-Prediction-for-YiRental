{
 "cells": [
  {
   "cell_type": "markdown",
   "metadata": {},
   "source": [
    "# 1. Package preparation"
   ]
  },
  {
   "cell_type": "code",
   "execution_count": 31,
   "metadata": {},
   "outputs": [],
   "source": [
    "# ! pip install missingno\n",
    "# ! pip install geopy\n",
    "# ! pip install geopandas\n",
    "# ! pip install geoplot   # need conda install -c conda-forge cartopy \n",
    "# ! pip install shapely\n",
    "import numpy as np\n",
    "import pandas as pd\n",
    "from matplotlib.pylab import plt\n",
    "import missingno as msno \n",
    "import warnings # ignore the warnings\n",
    "from sklearn.model_selection import train_test_split\n",
    "from sklearn.preprocessing import StandardScaler\n",
    "from sklearn.metrics import mean_squared_error\n",
    "warnings.filterwarnings('ignore')"
   ]
  },
  {
   "cell_type": "code",
   "execution_count": 32,
   "metadata": {},
   "outputs": [
    {
     "output_type": "execute_result",
     "data": {
      "text/plain": [
       "(6383, 12)"
      ]
     },
     "metadata": {},
     "execution_count": 32
    }
   ],
   "source": [
    "UShousing2 = pd.read_csv('UShousing2.csv')\n",
    "UShousing2.shape"
   ]
  },
  {
   "cell_type": "code",
   "execution_count": 33,
   "metadata": {},
   "outputs": [
    {
     "output_type": "execute_result",
     "data": {
      "text/plain": [
       "((6383, 11), (6383,))"
      ]
     },
     "metadata": {},
     "execution_count": 33
    }
   ],
   "source": [
    "UShousing3 = UShousing2.copy()\n",
    "X = UShousing3.drop('rent_amount',axis=1)\n",
    "y = UShousing2['rent_amount']\n",
    "X.shape, y.shape"
   ]
  },
  {
   "cell_type": "markdown",
   "metadata": {},
   "source": [
    "# 2. Feature Engineering"
   ]
  },
  {
   "cell_type": "markdown",
   "metadata": {},
   "source": [
    "a. Convert categorical features to numerics\n",
    "b. Standardize Numerical features"
   ]
  },
  {
   "cell_type": "code",
   "execution_count": 34,
   "metadata": {},
   "outputs": [],
   "source": [
    "UShousing2 = UShousing2[UShousing2['rent_amount'] > 0]\n",
    "xreg = pd.get_dummies(data=X[X.columns.difference([\"identity\"])])"
   ]
  },
  {
   "cell_type": "markdown",
   "metadata": {},
   "source": [
    "# 3. Gradient Boosting Model Implement"
   ]
  },
  {
   "cell_type": "markdown",
   "metadata": {},
   "source": [
    "##### Split Training set & Testing set"
   ]
  },
  {
   "cell_type": "code",
   "execution_count": 35,
   "metadata": {},
   "outputs": [
    {
     "output_type": "execute_result",
     "data": {
      "text/plain": [
       "((4468, 2357), (1915, 2357), (4468,), (1915,))"
      ]
     },
     "metadata": {},
     "execution_count": 35
    }
   ],
   "source": [
    "X_train, X_test, y_train, y_test = train_test_split(xreg, y, test_size=0.3, random_state= 42)\n",
    "X_train.shape, X_test.shape, y_train.shape, y_test.shape"
   ]
  },
  {
   "cell_type": "code",
   "execution_count": 36,
   "metadata": {},
   "outputs": [
    {
     "output_type": "execute_result",
     "data": {
      "text/plain": [
       "(4468, 2357)"
      ]
     },
     "metadata": {},
     "execution_count": 36
    }
   ],
   "source": [
    "X_train.shape"
   ]
  },
  {
   "cell_type": "code",
   "execution_count": 37,
   "metadata": {},
   "outputs": [
    {
     "output_type": "execute_result",
     "data": {
      "text/plain": [
       "   bathroom_count  bedroom_count  rent_duration      year\n",
       "0       -0.638320       0.057880      -0.013735 -1.306077\n",
       "1        0.701282       0.772273      -0.013735  1.258437\n",
       "2       -0.638320      -0.656512      -0.013735  1.258437\n",
       "3       -0.638320      -0.656512      -0.013735 -1.306077\n",
       "4        1.371084       0.057880      -0.013735 -0.023820"
      ],
      "text/html": "<div>\n<style scoped>\n    .dataframe tbody tr th:only-of-type {\n        vertical-align: middle;\n    }\n\n    .dataframe tbody tr th {\n        vertical-align: top;\n    }\n\n    .dataframe thead th {\n        text-align: right;\n    }\n</style>\n<table border=\"1\" class=\"dataframe\">\n  <thead>\n    <tr style=\"text-align: right;\">\n      <th></th>\n      <th>bathroom_count</th>\n      <th>bedroom_count</th>\n      <th>rent_duration</th>\n      <th>year</th>\n    </tr>\n  </thead>\n  <tbody>\n    <tr>\n      <td>0</td>\n      <td>-0.638320</td>\n      <td>0.057880</td>\n      <td>-0.013735</td>\n      <td>-1.306077</td>\n    </tr>\n    <tr>\n      <td>1</td>\n      <td>0.701282</td>\n      <td>0.772273</td>\n      <td>-0.013735</td>\n      <td>1.258437</td>\n    </tr>\n    <tr>\n      <td>2</td>\n      <td>-0.638320</td>\n      <td>-0.656512</td>\n      <td>-0.013735</td>\n      <td>1.258437</td>\n    </tr>\n    <tr>\n      <td>3</td>\n      <td>-0.638320</td>\n      <td>-0.656512</td>\n      <td>-0.013735</td>\n      <td>-1.306077</td>\n    </tr>\n    <tr>\n      <td>4</td>\n      <td>1.371084</td>\n      <td>0.057880</td>\n      <td>-0.013735</td>\n      <td>-0.023820</td>\n    </tr>\n  </tbody>\n</table>\n</div>"
     },
     "metadata": {},
     "execution_count": 37
    }
   ],
   "source": [
    "numerics = ['int64','float64']\n",
    "\n",
    "train_num = X_train.select_dtypes(include=numerics)\n",
    "test_num =  X_test[train_num.columns]\n",
    "\n",
    "\n",
    "scaler = StandardScaler()\n",
    "x_train_scaled = pd.DataFrame(scaler.fit_transform(train_num),columns = train_num.columns)\n",
    "x_test_scaled = pd.DataFrame(scaler.transform(test_num), columns = test_num.columns)\n",
    "\n",
    "x_train_scaled.shape,x_test_scaled.shape\n",
    "x_train_scaled.head()"
   ]
  },
  {
   "cell_type": "code",
   "execution_count": 38,
   "metadata": {},
   "outputs": [],
   "source": [
    "X_train.loc[:,'bathroom_count'] = x_train_scaled.loc[:,'bathroom_count'].values\n",
    "X_train.loc[:,'bedroom_count'] = x_train_scaled.loc[:,'bedroom_count'].values\n",
    "X_train.loc[:,'rent_duration'] = x_train_scaled.loc[:,'rent_duration'].values\n",
    "X_test.loc[:,'bathroom_count'] = x_test_scaled.loc[:,'bathroom_count'].values\n",
    "X_test.loc[:,'bedroom_count'] = x_test_scaled.loc[:,'bedroom_count'].values\n",
    "X_test.loc[:,'rent_duration'] = x_test_scaled.loc[:,'rent_duration'].values"
   ]
  },
  {
   "cell_type": "code",
   "execution_count": 39,
   "metadata": {},
   "outputs": [
    {
     "output_type": "execute_result",
     "data": {
      "text/plain": [
       "GradientBoostingRegressor(alpha=0.9, criterion='friedman_mse', init=None,\n",
       "                          learning_rate=0.1, loss='ls', max_depth=10000,\n",
       "                          max_features=None, max_leaf_nodes=None,\n",
       "                          min_impurity_decrease=0.0, min_impurity_split=None,\n",
       "                          min_samples_leaf=1, min_samples_split=2,\n",
       "                          min_weight_fraction_leaf=0.0, n_estimators=5,\n",
       "                          n_iter_no_change=None, presort='auto',\n",
       "                          random_state=None, subsample=1.0, tol=0.0001,\n",
       "                          validation_fraction=0.1, verbose=0, warm_start=False)"
      ]
     },
     "metadata": {},
     "execution_count": 39
    }
   ],
   "source": [
    "# Gradient Boosting\n",
    "from sklearn.ensemble import GradientBoostingRegressor\n",
    "\n",
    "regressor = GradientBoostingRegressor(\n",
    "    max_depth=10000,\n",
    "    n_estimators=5,\n",
    "    learning_rate=0.1\n",
    ")\n",
    "regressor.fit(X_train, y_train)"
   ]
  },
  {
   "cell_type": "code",
   "execution_count": 40,
   "metadata": {},
   "outputs": [],
   "source": [
    "errors = [mean_squared_error(y_test, y_pred) for y_pred in regressor.staged_predict(X_test)] \n",
    "\n",
    "best_n_estimators = np.argmin(errors)\n"
   ]
  },
  {
   "cell_type": "code",
   "execution_count": 41,
   "metadata": {},
   "outputs": [],
   "source": [
    "best_regressor = GradientBoostingRegressor(\n",
    "    max_depth=10000,\n",
    "    n_estimators=best_n_estimators,\n",
    "    learning_rate=0.1\n",
    ")\n",
    "best_regfit = best_regressor.fit(X_train, y_train)"
   ]
  },
  {
   "cell_type": "code",
   "execution_count": 42,
   "metadata": {},
   "outputs": [
    {
     "output_type": "execute_result",
     "data": {
      "text/plain": [
       "875435.7816481739"
      ]
     },
     "metadata": {},
     "execution_count": 42
    }
   ],
   "source": [
    "y_pred = best_regressor.predict(X_test)\n",
    "mean_squared_error(y_test, y_pred)"
   ]
  },
  {
   "cell_type": "code",
   "execution_count": 43,
   "metadata": {},
   "outputs": [
    {
     "output_type": "stream",
     "name": "stdout",
     "text": [
      "MAE: 637.9010885997321\nMSE: 875435.7816481739\n"
     ]
    }
   ],
   "source": [
    "import sklearn.metrics as metrics\n",
    "print('MAE:',metrics.mean_absolute_error(y_test, y_pred))\n",
    "print('MSE:',metrics.mean_squared_error(y_test, y_pred))"
   ]
  },
  {
   "cell_type": "code",
   "execution_count": null,
   "metadata": {},
   "outputs": [],
   "source": []
  }
 ],
 "metadata": {
  "kernelspec": {
   "display_name": "Python 3",
   "language": "python",
   "name": "python3"
  },
  "language_info": {
   "codemirror_mode": {
    "name": "ipython",
    "version": 3
   },
   "file_extension": ".py",
   "mimetype": "text/x-python",
   "name": "python",
   "nbconvert_exporter": "python",
   "pygments_lexer": "ipython3",
   "version": "3.7.4-final"
  }
 },
 "nbformat": 4,
 "nbformat_minor": 4
}