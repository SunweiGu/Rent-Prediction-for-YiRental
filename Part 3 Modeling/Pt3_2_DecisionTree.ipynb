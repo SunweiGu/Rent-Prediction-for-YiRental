{
 "cells": [
  {
   "cell_type": "markdown",
   "metadata": {},
   "source": [
    "# 1. Package preparation"
   ]
  },
  {
   "cell_type": "code",
   "execution_count": 6,
   "metadata": {},
   "outputs": [
    {
     "name": "stdout",
     "output_type": "stream",
     "text": [
      "Populating the interactive namespace from numpy and matplotlib\n"
     ]
    }
   ],
   "source": [
    "#! pip install missingno\n",
    "#! pip install geopy\n",
    "# !pip install geopandas\n",
    "# !pip install geoplot   # need conda install -c conda-forge cartopy \n",
    "# !pip install shapely\n",
    "import numpy as np\n",
    "import pandas as pd\n",
    "import geopy\n",
    "np.set_printoptions(threshold=np.inf)\n",
    "from scipy import stats\n",
    "import seaborn as sns\n",
    "%matplotlib inline\n",
    "from matplotlib.pylab import plt\n",
    "%pylab inline\n",
    "import missingno as msno \n",
    "import warnings # ignore the warnings\n",
    "# from geopandas import GeoDataFrame\n",
    "# import geopandas as gpd\n",
    "# from shapely.geometry import Point, Polygon\n",
    "# from geopy.geocoders import Nominatim\n",
    "# import geoplot as gplt\n",
    "from string import ascii_letters\n",
    "import seaborn as sns\n",
    "import scipy.stats as ss\n",
    "from sklearn.model_selection import train_test_split\n",
    "from sklearn.preprocessing import StandardScaler\n",
    "warnings.filterwarnings('ignore')"
   ]
  },
  {
   "cell_type": "code",
   "execution_count": 7,
   "metadata": {},
   "outputs": [
    {
     "data": {
      "text/plain": [
       "(6383, 12)"
      ]
     },
     "execution_count": 7,
     "metadata": {},
     "output_type": "execute_result"
    }
   ],
   "source": [
    "UShousing2 = pd.read_csv('UShousing2.csv')\n",
    "UShousing2.shape"
   ]
  },
  {
   "cell_type": "code",
   "execution_count": 8,
   "metadata": {},
   "outputs": [
    {
     "data": {
      "text/plain": [
       "((6383, 11), (6383,))"
      ]
     },
     "execution_count": 8,
     "metadata": {},
     "output_type": "execute_result"
    }
   ],
   "source": [
    "UShousing3 = UShousing2.copy()\n",
    "X = UShousing3.drop('rent_amount',axis=1)\n",
    "y = UShousing2['rent_amount']\n",
    "X.shape, y.shape"
   ]
  },
  {
   "cell_type": "markdown",
   "metadata": {},
   "source": [
    "# 2. Feature Engineering"
   ]
  },
  {
   "cell_type": "markdown",
   "metadata": {},
   "source": [
    "a. Convert categorical features to numerics\n",
    "b. Standardize Numerical features"
   ]
  },
  {
   "cell_type": "code",
   "execution_count": 9,
   "metadata": {},
   "outputs": [],
   "source": [
    "UShousing2 = UShousing2[UShousing2['rent_amount'] > 0]\n",
    "xreg = pd.get_dummies(data=X[X.columns.difference([\"identity\"])])"
   ]
  },
  {
   "cell_type": "markdown",
   "metadata": {},
   "source": [
    "# 3. Decision Tree Model Implement"
   ]
  },
  {
   "cell_type": "markdown",
   "metadata": {},
   "source": [
    "##### Split Training set & Testing set"
   ]
  },
  {
   "cell_type": "code",
   "execution_count": 10,
   "metadata": {},
   "outputs": [
    {
     "data": {
      "text/plain": [
       "((4468, 2357), (1915, 2357), (4468,), (1915,))"
      ]
     },
     "execution_count": 10,
     "metadata": {},
     "output_type": "execute_result"
    }
   ],
   "source": [
    "X_train, X_test, y_train, y_test = train_test_split(xreg, y, test_size=0.3, random_state= 42)\n",
    "X_train.shape, X_test.shape, y_train.shape, y_test.shape"
   ]
  },
  {
   "cell_type": "code",
   "execution_count": 11,
   "metadata": {},
   "outputs": [
    {
     "data": {
      "text/plain": [
       "(4468, 2357)"
      ]
     },
     "execution_count": 11,
     "metadata": {},
     "output_type": "execute_result"
    }
   ],
   "source": [
    "X_train.shape"
   ]
  },
  {
   "cell_type": "code",
   "execution_count": 12,
   "metadata": {},
   "outputs": [
    {
     "data": {
      "text/html": [
       "<div>\n",
       "<style scoped>\n",
       "    .dataframe tbody tr th:only-of-type {\n",
       "        vertical-align: middle;\n",
       "    }\n",
       "\n",
       "    .dataframe tbody tr th {\n",
       "        vertical-align: top;\n",
       "    }\n",
       "\n",
       "    .dataframe thead th {\n",
       "        text-align: right;\n",
       "    }\n",
       "</style>\n",
       "<table border=\"1\" class=\"dataframe\">\n",
       "  <thead>\n",
       "    <tr style=\"text-align: right;\">\n",
       "      <th></th>\n",
       "      <th>bathroom_count</th>\n",
       "      <th>bedroom_count</th>\n",
       "      <th>rent_duration</th>\n",
       "      <th>year</th>\n",
       "    </tr>\n",
       "  </thead>\n",
       "  <tbody>\n",
       "    <tr>\n",
       "      <th>0</th>\n",
       "      <td>-0.638320</td>\n",
       "      <td>0.057880</td>\n",
       "      <td>-0.013735</td>\n",
       "      <td>-1.306077</td>\n",
       "    </tr>\n",
       "    <tr>\n",
       "      <th>1</th>\n",
       "      <td>0.701282</td>\n",
       "      <td>0.772273</td>\n",
       "      <td>-0.013735</td>\n",
       "      <td>1.258437</td>\n",
       "    </tr>\n",
       "    <tr>\n",
       "      <th>2</th>\n",
       "      <td>-0.638320</td>\n",
       "      <td>-0.656512</td>\n",
       "      <td>-0.013735</td>\n",
       "      <td>1.258437</td>\n",
       "    </tr>\n",
       "    <tr>\n",
       "      <th>3</th>\n",
       "      <td>-0.638320</td>\n",
       "      <td>-0.656512</td>\n",
       "      <td>-0.013735</td>\n",
       "      <td>-1.306077</td>\n",
       "    </tr>\n",
       "    <tr>\n",
       "      <th>4</th>\n",
       "      <td>1.371084</td>\n",
       "      <td>0.057880</td>\n",
       "      <td>-0.013735</td>\n",
       "      <td>-0.023820</td>\n",
       "    </tr>\n",
       "  </tbody>\n",
       "</table>\n",
       "</div>"
      ],
      "text/plain": [
       "   bathroom_count  bedroom_count  rent_duration      year\n",
       "0       -0.638320       0.057880      -0.013735 -1.306077\n",
       "1        0.701282       0.772273      -0.013735  1.258437\n",
       "2       -0.638320      -0.656512      -0.013735  1.258437\n",
       "3       -0.638320      -0.656512      -0.013735 -1.306077\n",
       "4        1.371084       0.057880      -0.013735 -0.023820"
      ]
     },
     "execution_count": 12,
     "metadata": {},
     "output_type": "execute_result"
    }
   ],
   "source": [
    "numerics = ['int64','float64']\n",
    "\n",
    "train_num = X_train.select_dtypes(include=numerics)\n",
    "test_num =  X_test[train_num.columns]\n",
    "\n",
    "\n",
    "scaler = StandardScaler()\n",
    "x_train_scaled = pd.DataFrame(scaler.fit_transform(train_num),columns = train_num.columns)\n",
    "x_test_scaled = pd.DataFrame(scaler.transform(test_num), columns = test_num.columns)\n",
    "\n",
    "x_train_scaled.shape,x_test_scaled.shape\n",
    "x_train_scaled.head()"
   ]
  },
  {
   "cell_type": "code",
   "execution_count": 13,
   "metadata": {},
   "outputs": [],
   "source": [
    "X_train.loc[:,'bathroom_count'] = x_train_scaled.loc[:,'bathroom_count'].values\n",
    "X_train.loc[:,'bedroom_count'] = x_train_scaled.loc[:,'bedroom_count'].values\n",
    "X_train.loc[:,'rent_duration'] = x_train_scaled.loc[:,'rent_duration'].values\n",
    "X_test.loc[:,'bathroom_count'] = x_test_scaled.loc[:,'bathroom_count'].values\n",
    "X_test.loc[:,'bedroom_count'] = x_test_scaled.loc[:,'bedroom_count'].values\n",
    "X_test.loc[:,'rent_duration'] = x_test_scaled.loc[:,'rent_duration'].values"
   ]
  },
  {
   "cell_type": "code",
   "execution_count": 15,
   "metadata": {},
   "outputs": [
    {
     "name": "stdout",
     "output_type": "stream",
     "text": [
      "MAE:  622.7612884703385\n",
      "MSE:  1305667.5168203241\n"
     ]
    }
   ],
   "source": [
    "from sklearn.model_selection import GridSearchCV\n",
    "from sklearn.tree import DecisionTreeRegressor\n",
    "from sklearn.tree import plot_tree\n",
    "import sklearn.metrics as metrics\n",
    "grid_values = {'ccp_alpha': np.linspace(0, 0.1, 21), 'min_samples_split':[2,10,50,100]}\n",
    "dtc = DecisionTreeRegressor(random_state=88)\n",
    "dtc_cv = GridSearchCV(dtc, param_grid=grid_values, cv=5, n_jobs=-1).fit(X_train, y_train)\n",
    "y_pred = dtc_cv.predict(X_test)\n",
    "print('MAE: ',  metrics.mean_absolute_error(y_test, y_pred))\n",
    "print('MSE: ',  metrics.mean_squared_error(y_test, y_pred))"
   ]
  },
  {
   "cell_type": "code",
   "execution_count": null,
   "metadata": {},
   "outputs": [],
   "source": []
  }
 ],
 "metadata": {
  "kernelspec": {
   "display_name": "Python 3",
   "language": "python",
   "name": "python3"
  },
  "language_info": {
   "codemirror_mode": {
    "name": "ipython",
    "version": 3
   },
   "file_extension": ".py",
   "mimetype": "text/x-python",
   "name": "python",
   "nbconvert_exporter": "python",
   "pygments_lexer": "ipython3",
   "version": "3.6.8"
  },
  "toc": {
   "base_numbering": 1,
   "nav_menu": {},
   "number_sections": false,
   "sideBar": false,
   "skip_h1_title": false,
   "title_cell": "Table of Contents",
   "title_sidebar": "Contents",
   "toc_cell": false,
   "toc_position": {},
   "toc_section_display": false,
   "toc_window_display": false
  }
 },
 "nbformat": 4,
 "nbformat_minor": 4
}
