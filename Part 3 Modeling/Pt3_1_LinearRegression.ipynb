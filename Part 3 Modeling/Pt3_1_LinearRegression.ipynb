{
 "cells": [
  {
   "cell_type": "markdown",
   "metadata": {},
   "source": [
    "# 1. Package preparation"
   ]
  },
  {
   "cell_type": "code",
   "execution_count": 2,
   "metadata": {},
   "outputs": [
    {
     "name": "stdout",
     "output_type": "stream",
     "text": [
      "Populating the interactive namespace from numpy and matplotlib\n"
     ]
    }
   ],
   "source": [
    "#! pip install missingno\n",
    "#! pip install geopy\n",
    "# !pip install geopandas\n",
    "# !pip install geoplot   # need conda install -c conda-forge cartopy \n",
    "# !pip install shapely\n",
    "import numpy as np\n",
    "import pandas as pd\n",
    "import geopy\n",
    "np.set_printoptions(threshold=np.inf)\n",
    "from scipy import stats\n",
    "import seaborn as sns\n",
    "%matplotlib inline\n",
    "from matplotlib.pylab import plt\n",
    "%pylab inline\n",
    "import missingno as msno \n",
    "import warnings # ignore the warnings\n",
    "from geopandas import GeoDataFrame\n",
    "import geopandas as gpd\n",
    "from shapely.geometry import Point, Polygon\n",
    "from geopy.geocoders import Nominatim\n",
    "import geoplot as gplt\n",
    "from string import ascii_letters\n",
    "import seaborn as sns\n",
    "import scipy.stats as ss\n",
    "from sklearn.model_selection import train_test_split\n",
    "from sklearn.preprocessing import StandardScaler\n",
    "warnings.filterwarnings('ignore')"
   ]
  },
  {
   "cell_type": "code",
   "execution_count": 3,
   "metadata": {},
   "outputs": [
    {
     "data": {
      "text/plain": [
       "(7250, 12)"
      ]
     },
     "execution_count": 3,
     "metadata": {},
     "output_type": "execute_result"
    }
   ],
   "source": [
    "UShousing2 = pd.read_csv('UShousing2.csv')\n",
    "UShousing2.shape"
   ]
  },
  {
   "cell_type": "code",
   "execution_count": 4,
   "metadata": {},
   "outputs": [
    {
     "data": {
      "text/plain": [
       "((7250, 11), (7250,))"
      ]
     },
     "execution_count": 4,
     "metadata": {},
     "output_type": "execute_result"
    }
   ],
   "source": [
    "UShousing3 = UShousing2.copy()\n",
    "X = UShousing3.drop('rent_amount',axis=1)\n",
    "y = UShousing2['rent_amount']\n",
    "X.shape, y.shape"
   ]
  },
  {
   "cell_type": "markdown",
   "metadata": {},
   "source": [
    "# 2. Feature Engineering"
   ]
  },
  {
   "cell_type": "markdown",
   "metadata": {},
   "source": [
    "a. Convert categorical features to numerics\n",
    "b. Standardize Numerical features"
   ]
  },
  {
   "cell_type": "code",
   "execution_count": 5,
   "metadata": {},
   "outputs": [],
   "source": [
    "UShousing2 = UShousing2[UShousing2['rent_amount'] > 0]\n",
    "xreg = pd.get_dummies(data=X[X.columns.difference([\"identity\"])])"
   ]
  },
  {
   "cell_type": "markdown",
   "metadata": {},
   "source": [
    "# 3. Linear Regession Model Implement"
   ]
  },
  {
   "cell_type": "markdown",
   "metadata": {},
   "source": [
    "##### Split Training set & Testing set"
   ]
  },
  {
   "cell_type": "code",
   "execution_count": 6,
   "metadata": {},
   "outputs": [
    {
     "data": {
      "text/plain": [
       "((5075, 6880), (2175, 6880), (5075,), (2175,))"
      ]
     },
     "execution_count": 6,
     "metadata": {},
     "output_type": "execute_result"
    }
   ],
   "source": [
    "X_train, X_test, y_train, y_test = train_test_split(xreg, y, test_size=0.3, random_state= 42)\n",
    "X_train.shape, X_test.shape, y_train.shape, y_test.shape"
   ]
  },
  {
   "cell_type": "code",
   "execution_count": 7,
   "metadata": {},
   "outputs": [
    {
     "data": {
      "text/plain": [
       "(5075, 6880)"
      ]
     },
     "execution_count": 7,
     "metadata": {},
     "output_type": "execute_result"
    }
   ],
   "source": [
    "X_train.shape"
   ]
  },
  {
   "cell_type": "code",
   "execution_count": 8,
   "metadata": {},
   "outputs": [
    {
     "data": {
      "text/html": [
       "<div>\n",
       "<style scoped>\n",
       "    .dataframe tbody tr th:only-of-type {\n",
       "        vertical-align: middle;\n",
       "    }\n",
       "\n",
       "    .dataframe tbody tr th {\n",
       "        vertical-align: top;\n",
       "    }\n",
       "\n",
       "    .dataframe thead th {\n",
       "        text-align: right;\n",
       "    }\n",
       "</style>\n",
       "<table border=\"1\" class=\"dataframe\">\n",
       "  <thead>\n",
       "    <tr style=\"text-align: right;\">\n",
       "      <th></th>\n",
       "      <th>bathroom_count</th>\n",
       "      <th>bedroom_count</th>\n",
       "      <th>publisher_identity</th>\n",
       "      <th>rent_duration</th>\n",
       "      <th>year</th>\n",
       "    </tr>\n",
       "  </thead>\n",
       "  <tbody>\n",
       "    <tr>\n",
       "      <th>0</th>\n",
       "      <td>-0.557945</td>\n",
       "      <td>-0.620497</td>\n",
       "      <td>-0.148548</td>\n",
       "      <td>-0.001108</td>\n",
       "      <td>-0.148402</td>\n",
       "    </tr>\n",
       "    <tr>\n",
       "      <th>1</th>\n",
       "      <td>-0.557945</td>\n",
       "      <td>-0.620497</td>\n",
       "      <td>-0.148548</td>\n",
       "      <td>-0.001108</td>\n",
       "      <td>-0.148402</td>\n",
       "    </tr>\n",
       "    <tr>\n",
       "      <th>2</th>\n",
       "      <td>-0.557945</td>\n",
       "      <td>-0.620497</td>\n",
       "      <td>-0.148548</td>\n",
       "      <td>-0.001108</td>\n",
       "      <td>-1.407833</td>\n",
       "    </tr>\n",
       "    <tr>\n",
       "      <th>3</th>\n",
       "      <td>0.033568</td>\n",
       "      <td>0.737719</td>\n",
       "      <td>8.617538</td>\n",
       "      <td>-7.160020</td>\n",
       "      <td>1.111029</td>\n",
       "    </tr>\n",
       "    <tr>\n",
       "      <th>4</th>\n",
       "      <td>-0.557945</td>\n",
       "      <td>-0.620497</td>\n",
       "      <td>-0.148548</td>\n",
       "      <td>-0.001108</td>\n",
       "      <td>1.111029</td>\n",
       "    </tr>\n",
       "  </tbody>\n",
       "</table>\n",
       "</div>"
      ],
      "text/plain": [
       "   bathroom_count  bedroom_count  publisher_identity  rent_duration      year\n",
       "0       -0.557945      -0.620497           -0.148548      -0.001108 -0.148402\n",
       "1       -0.557945      -0.620497           -0.148548      -0.001108 -0.148402\n",
       "2       -0.557945      -0.620497           -0.148548      -0.001108 -1.407833\n",
       "3        0.033568       0.737719            8.617538      -7.160020  1.111029\n",
       "4       -0.557945      -0.620497           -0.148548      -0.001108  1.111029"
      ]
     },
     "execution_count": 8,
     "metadata": {},
     "output_type": "execute_result"
    }
   ],
   "source": [
    "numerics = ['int64','float64']\n",
    "\n",
    "train_num = X_train.select_dtypes(include=numerics)\n",
    "test_num =  X_test[train_num.columns]\n",
    "\n",
    "\n",
    "scaler = StandardScaler()\n",
    "x_train_scaled = pd.DataFrame(scaler.fit_transform(train_num),columns = train_num.columns)\n",
    "x_test_scaled = pd.DataFrame(scaler.transform(test_num), columns = test_num.columns)\n",
    "\n",
    "x_train_scaled.shape,x_test_scaled.shape\n",
    "x_train_scaled.head()"
   ]
  },
  {
   "cell_type": "code",
   "execution_count": 9,
   "metadata": {},
   "outputs": [],
   "source": [
    "X_train.loc[:,'bathroom_count'] = x_train_scaled.loc[:,'bathroom_count'].values\n",
    "X_train.loc[:,'bedroom_count'] = x_train_scaled.loc[:,'bedroom_count'].values\n",
    "X_train.loc[:,'rent_duration'] = x_train_scaled.loc[:,'rent_duration'].values\n",
    "X_test.loc[:,'bathroom_count'] = x_test_scaled.loc[:,'bathroom_count'].values\n",
    "X_test.loc[:,'bedroom_count'] = x_test_scaled.loc[:,'bedroom_count'].values\n",
    "X_test.loc[:,'rent_duration'] = x_test_scaled.loc[:,'rent_duration'].values"
   ]
  },
  {
   "cell_type": "code",
   "execution_count": 10,
   "metadata": {},
   "outputs": [
    {
     "name": "stdout",
     "output_type": "stream",
     "text": [
      "explained_variance:  -3.357928688125219e+23\n",
      "r2:  -3.3594543339452725e+23\n",
      "MAE:  157713731122192.6\n",
      "MSE:  3.747194543283424e+29\n",
      "RMSE:  612143328256007.6\n"
     ]
    }
   ],
   "source": [
    "# simple linear regression \n",
    "from sklearn.linear_model import LinearRegression\n",
    "reg = LinearRegression().fit(X_train, y_train)\n",
    "# reg.predict(X_test)\n",
    "import sklearn.metrics as metrics\n",
    "def regression_results(y_true, y_pred):\n",
    "\n",
    "    # Regression metrics\n",
    "    explained_variance=metrics.explained_variance_score(y_true, y_pred)\n",
    "    mean_absolute_error=metrics.mean_absolute_error(y_true, y_pred) \n",
    "    mse=metrics.mean_squared_error(y_true, y_pred) \n",
    "    # mean_squared_log_error=metrics.mean_squared_log_error(y_true, y_pred)\n",
    "    # median_absolute_error=metrics.median_absolute_error(y_true, y_pred)\n",
    "    r2=metrics.r2_score(y_true, y_pred)\n",
    "\n",
    "    print('explained_variance: ', round(explained_variance,4))    \n",
    "    # print('mean_squared_log_error: ', round(mean_squared_log_error,4))\n",
    "    print('r2: ', round(r2,4))\n",
    "    print('MAE: ', round(mean_absolute_error,4))\n",
    "    print('MSE: ', round(mse,4))\n",
    "    print('RMSE: ', round(np.sqrt(mse),4))\n",
    "regression_results(y_test,reg.predict(X_test))"
   ]
  },
  {
   "cell_type": "code",
   "execution_count": 11,
   "metadata": {},
   "outputs": [
    {
     "name": "stdout",
     "output_type": "stream",
     "text": [
      "MAE:  585.524355844828\n",
      "MSE:  1463023.3751264047\n"
     ]
    }
   ],
   "source": [
    "## Linear regression with regularization - Lasso\n",
    "from sklearn.model_selection import cross_val_score, KFold\n",
    "from sklearn import linear_model\n",
    "from statistics import mean\n",
    "alphas = [0.05,0.1,0.15,0.2,0.25]\n",
    "kf = KFold(3, shuffle=True, random_state=0)\n",
    "cross_val_list = []\n",
    "\n",
    "for i in alphas:\n",
    "    rm2b1 = linear_model.Lasso(alpha=i, fit_intercept = True,max_iter=5000, normalize=True)\n",
    "    cross_val_list.append(sum(cross_val_score(rm2b1, X_train, y_train, cv=kf)) / 4)\n",
    "\n",
    "alpha_best_cv = alphas[cross_val_list.index(max(cross_val_list))]\n",
    "rm2a3 = linear_model.Lasso(alpha=0.21, fit_intercept = True)\n",
    "lasso_model_2a3 = rm2a3.fit(X_train, y_train)\n",
    "ytest_pred_2a3 = rm2a3.predict(X_test)\n",
    "print('MAE: ',  metrics.mean_absolute_error(y_test, ytest_pred_2a3))\n",
    "print('MSE: ',  metrics.mean_squared_error(y_test, ytest_pred_2a3))"
   ]
  }
 ],
 "metadata": {
  "kernelspec": {
   "display_name": "Python 3",
   "language": "python",
   "name": "python3"
  },
  "language_info": {
   "codemirror_mode": {
    "name": "ipython",
    "version": 3
   },
   "file_extension": ".py",
   "mimetype": "text/x-python",
   "name": "python",
   "nbconvert_exporter": "python",
   "pygments_lexer": "ipython3",
   "version": "3.8.3"
  }
 },
 "nbformat": 4,
 "nbformat_minor": 4
}
