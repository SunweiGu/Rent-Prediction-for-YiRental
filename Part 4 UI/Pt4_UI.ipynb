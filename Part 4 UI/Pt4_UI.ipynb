{
 "cells": [
  {
   "cell_type": "markdown",
   "metadata": {},
   "source": [
    "# 1. Package preparation"
   ]
  },
  {
   "cell_type": "code",
   "execution_count": 3,
   "metadata": {},
   "outputs": [
    {
     "name": "stdout",
     "output_type": "stream",
     "text": [
      "Populating the interactive namespace from numpy and matplotlib\n"
     ]
    }
   ],
   "source": [
    "#! pip install missingno\n",
    "#! pip install geopy\n",
    "# !pip install geopandas\n",
    "# !pip install geoplot   # need conda install -c conda-forge cartopy \n",
    "# !pip install shapely\n",
    "import numpy as np\n",
    "import pandas as pd\n",
    "import geopy\n",
    "np.set_printoptions(threshold=np.inf)\n",
    "from scipy import stats\n",
    "import seaborn as sns\n",
    "%matplotlib inline\n",
    "from matplotlib.pylab import plt\n",
    "%pylab inline\n",
    "import missingno as msno \n",
    "import warnings # ignore the warnings\n",
    "# from geopandas import GeoDataFrame\n",
    "# import geopandas as gpd\n",
    "# from shapely.geometry import Point, Polygon\n",
    "# from geopy.geocoders import Nominatim\n",
    "# import geoplot as gplt\n",
    "from string import ascii_letters\n",
    "import seaborn as sns\n",
    "import scipy.stats as ss\n",
    "from sklearn.model_selection import train_test_split\n",
    "from sklearn.preprocessing import StandardScaler\n",
    "warnings.filterwarnings('ignore')"
   ]
  },
  {
   "cell_type": "code",
   "execution_count": 4,
   "metadata": {},
   "outputs": [],
   "source": [
    "UShousing2 = pd.read_csv('UShousing2.csv')\n",
    "UShousing2.shape\n",
    "\n",
    "UShousing3 = UShousing2.copy()\n",
    "X = UShousing3.drop('rent_amount',axis=1)\n",
    "y = UShousing2['rent_amount']\n",
    "\n",
    "\n",
    "# 2. Feature Engineering\n",
    "UShousing2 = UShousing2[UShousing2['rent_amount'] > 0]\n",
    "xreg = pd.get_dummies(data=X[X.columns.difference([\"identity\"])])\n",
    "\n",
    "# 3. Linear Regession Model Implement\n",
    "##### Split Training set & Testing set\n",
    "X_train, X_test, y_train, y_test = train_test_split(xreg, y, test_size=0.3, random_state= 42)\n",
    "\n",
    "numerics = ['int64','float64']\n",
    "train_num = X_train.select_dtypes(include=numerics)\n",
    "test_num =  X_test[train_num.columns]\n",
    "\n",
    "\n",
    "scaler = StandardScaler()\n",
    "x_train_scaled = pd.DataFrame(scaler.fit_transform(train_num),columns = train_num.columns)\n",
    "x_test_scaled = pd.DataFrame(scaler.transform(test_num), columns = test_num.columns)\n",
    "\n",
    "\n",
    "X_train.loc[:,'bathroom_count'] = x_train_scaled.loc[:,'bathroom_count'].values\n",
    "X_train.loc[:,'bedroom_count'] = x_train_scaled.loc[:,'bedroom_count'].values\n",
    "X_train.loc[:,'rent_duration'] = x_train_scaled.loc[:,'rent_duration'].values\n",
    "X_test.loc[:,'bathroom_count'] = x_test_scaled.loc[:,'bathroom_count'].values\n",
    "X_test.loc[:,'bedroom_count'] = x_test_scaled.loc[:,'bedroom_count'].values\n",
    "X_test.loc[:,'rent_duration'] = x_test_scaled.loc[:,'rent_duration'].values"
   ]
  },
  {
   "cell_type": "markdown",
   "metadata": {},
   "source": [
    "# 2. UI"
   ]
  },
  {
   "cell_type": "code",
   "execution_count": 5,
   "metadata": {},
   "outputs": [],
   "source": [
    "# !pip install mlxtend"
   ]
  },
  {
   "cell_type": "code",
   "execution_count": 6,
   "metadata": {},
   "outputs": [
    {
     "data": {
      "text/plain": [
       "'# Stepwise\\nfrom mlxtend.feature_selection import SequentialFeatureSelector as sfs\\nfrom sklearn.linear_model import LinearRegression\\nclf = LinearRegression()\\n\\n# Build step forward feature selection\\nsfs1 = sfs(clf,k_features = 6,forward=True,floating=False, scoring=\\'r2\\',cv=3)\\n# Build step forward feature selection\\n#sfs1 = SequentialFeatureSelector(clf, n_features_to_select=3,scoring=\\'r2\\',direction = \"forward\")\\n\\n\\n# Perform SFFS\\nsfs1 = sfs1.fit(X_train, y_train)\\n'"
      ]
     },
     "execution_count": 6,
     "metadata": {},
     "output_type": "execute_result"
    }
   ],
   "source": [
    "'''# Stepwise\n",
    "from mlxtend.feature_selection import SequentialFeatureSelector as sfs\n",
    "from sklearn.linear_model import LinearRegression\n",
    "clf = LinearRegression()\n",
    "\n",
    "# Build step forward feature selection\n",
    "sfs1 = sfs(clf,k_features = 6,forward=True,floating=False, scoring='r2',cv=3)\n",
    "# Build step forward feature selection\n",
    "#sfs1 = SequentialFeatureSelector(clf, n_features_to_select=3,scoring='r2',direction = \"forward\")\n",
    "\n",
    "\n",
    "# Perform SFFS\n",
    "sfs1 = sfs1.fit(X_train, y_train)\n",
    "'''"
   ]
  },
  {
   "cell_type": "markdown",
   "metadata": {},
   "source": [
    "## Try the Pickle here "
   ]
  },
  {
   "cell_type": "code",
   "execution_count": 9,
   "metadata": {},
   "outputs": [],
   "source": [
    "# The 6 features selected out by Stepwise regression\n",
    "from sklearn.ensemble import GradientBoostingRegressor\n",
    "import sklearn.metrics as metrics\n",
    "Xx = X_train.loc[:,('bathroom_count',\n",
    " 'bedroom_count',\n",
    " 'City_geo_New York',\n",
    " 'Postcode_geo_10019',\n",
    " 'Postcode_geo_10107',\n",
    " 'house_type_id_Apartment')]\n",
    "# Use CV find best n_estimator\n",
    "regressor = GradientBoostingRegressor(\n",
    "    max_depth=10000,\n",
    "    n_estimators=5,\n",
    "    learning_rate=0.1\n",
    ")\n",
    "regressor.fit(X_train, y_train)\n",
    "errors = [metrics.mean_squared_error(y_test, y_pred) for y_pred in regressor.staged_predict(X_test)] \n",
    "best_n_estimators = np.argmin(errors)\n",
    "\n",
    "result =GradientBoostingRegressor(\n",
    "    max_depth=10000,\n",
    "    n_estimators=best_n_estimators,\n",
    "    learning_rate=0.1).fit(Xx,y_train)\n"
   ]
  },
  {
   "cell_type": "code",
   "execution_count": 10,
   "metadata": {},
   "outputs": [],
   "source": [
    "import pickle\n",
    "from flask import Flask, request, render_template\n",
    "# Since we have already provided model.pkl in the submission folder, we commented out this part \n",
    "with open('model.pkl', 'wb') as file:\n",
    "    pickle.dump(result, file)"
   ]
  },
  {
   "cell_type": "code",
   "execution_count": 11,
   "metadata": {},
   "outputs": [],
   "source": [
    "# Create application\n",
    "app = Flask(__name__)"
   ]
  },
  {
   "cell_type": "code",
   "execution_count": 13,
   "metadata": {},
   "outputs": [],
   "source": [
    "model = pickle.load(open('model.pkl', 'rb'))"
   ]
  },
  {
   "cell_type": "code",
   "execution_count": 14,
   "metadata": {},
   "outputs": [],
   "source": [
    "uix = X_test.loc[:,['bathroom_count',\n",
    " 'bedroom_count',\n",
    " 'City_geo_New York',\n",
    " 'Postcode_geo_10019',\n",
    " 'Postcode_geo_10107',\n",
    " 'house_type_id_Apartment']]"
   ]
  },
  {
   "cell_type": "code",
   "execution_count": 15,
   "metadata": {},
   "outputs": [
    {
     "data": {
      "text/plain": [
       "[bathroom_count             1.371084\n",
       " bedroom_count              0.057880\n",
       " City_geo_New York          0.000000\n",
       " Postcode_geo_10019         0.000000\n",
       " Postcode_geo_10107         0.000000\n",
       " house_type_id_Apartment    0.000000\n",
       " Name: 1153, dtype: float64]"
      ]
     },
     "execution_count": 15,
     "metadata": {},
     "output_type": "execute_result"
    }
   ],
   "source": [
    "[uix.iloc[0,:]]"
   ]
  },
  {
   "cell_type": "code",
   "execution_count": 16,
   "metadata": {},
   "outputs": [
    {
     "name": "stdout",
     "output_type": "stream",
     "text": [
      "[1496.70196795]\n"
     ]
    }
   ],
   "source": [
    "# Try if the model is stored properly\n",
    "print(model.predict([uix.iloc[0,:]]))"
   ]
  },
  {
   "cell_type": "markdown",
   "metadata": {},
   "source": [
    "Flask starts here"
   ]
  },
  {
   "cell_type": "code",
   "execution_count": 17,
   "metadata": {},
   "outputs": [],
   "source": [
    "# Bind home function to URL\n",
    "@app.route('/')\n",
    "def home():\n",
    "    return render_template('Rent Prediction.html')\n",
    "\n",
    "@app.route('/predict',methods=['POST'])\n",
    "def predict():\n",
    "    #For rendering results on HTML GUI\n",
    "    int_features = [float(x) for x in request.form.values()]\n",
    "    final_features = [np.array(int_features)]\n",
    "    prediction = model.predict(final_features)\n",
    "    output = round(prediction[0], 2) \n",
    "    return render_template('Rent Prediction.html', prediction_text='Rent estimated for this property is :{}'.format(output))"
   ]
  },
  {
   "cell_type": "code",
   "execution_count": null,
   "metadata": {},
   "outputs": [],
   "source": []
  },
  {
   "cell_type": "code",
   "execution_count": 18,
   "metadata": {},
   "outputs": [
    {
     "data": {
      "text/plain": [
       "'\\n# save the html file\\nfile = open(\"Rent Prediction.html\",\"w\")\\nfile.write(text)\\nfile.close()\\n'"
      ]
     },
     "execution_count": 18,
     "metadata": {},
     "output_type": "execute_result"
    }
   ],
   "source": [
    "#skip\n",
    "# html file \n",
    "'''\n",
    "text = \n",
    "<html>\n",
    "    <div class = 'login'>\n",
    "        <h1>Predict Rent price</h1>\n",
    "         <h3>Enter the following value to predict the rent price </h3>\n",
    "     \n",
    "        <form action = \"{{ url_for(\"predict\")}}\"method = \"post\">\n",
    "            <input type = \"text\" name = \"bathroomcount\" placeholder = \"Bathroom Count\" required = \"required\" />\n",
    "            <input type = \"text\" name = \"bedroomcount\" placeholder = \"Bedroom Count\" required = \"required\" />\n",
    "            <input type = \"text\" name = \"cityNY\" placeholder = \"citisNY\" required = \"required\" />\n",
    "            <input type = \"text\" name = \"Post10019\" placeholder = \"postis10019\" required = \"required\" />\n",
    "            <input type = \"text\" name = \"Post10107\" placeholder = \"Post10107\" required = \"required\" />\n",
    "            <input type = \"text\" name = \"Housetype\" placeholder = \"House Type\" required = \"required\" />\n",
    "\n",
    "            <button type = \"submit\" class = \"btn\">predict</button>\n",
    "        </form>\n",
    " \n",
    "      <br>\n",
    "      <br>\n",
    "      {{ prediction_text }}\n",
    "  \n",
    "    </div>\n",
    "<html>\n",
    "'''\n",
    "\n",
    "'''\n",
    "# save the html file\n",
    "file = open(\"Rent Prediction.html\",\"w\")\n",
    "file.write(text)\n",
    "file.close()\n",
    "'''"
   ]
  },
  {
   "cell_type": "code",
   "execution_count": 19,
   "metadata": {},
   "outputs": [],
   "source": [
    "# run this cell for the first time\n",
    "#!pip install flask==0.12.2"
   ]
  },
  {
   "cell_type": "code",
   "execution_count": null,
   "metadata": {
    "scrolled": true
   },
   "outputs": [
    {
     "name": "stderr",
     "output_type": "stream",
     "text": [
      " * Running on http://0.0.0.0:4996/ (Press CTRL+C to quit)\n",
      "127.0.0.1 - - [06/May/2021 20:29:01] \"\u001b[37mGET / HTTP/1.1\u001b[0m\" 200 -\n",
      "127.0.0.1 - - [06/May/2021 20:29:09] \"\u001b[37mPOST /predict HTTP/1.1\u001b[0m\" 200 -\n",
      "127.0.0.1 - - [06/May/2021 20:29:09] \"\u001b[33mGET /favicon.ico HTTP/1.1\u001b[0m\" 404 -\n"
     ]
    }
   ],
   "source": [
    "if __name__ == \"__main__\":\n",
    "    app.run(debug=True,use_reloader = False,port=4996,host=\"0.0.0.0\")"
   ]
  },
  {
   "cell_type": "code",
   "execution_count": null,
   "metadata": {},
   "outputs": [],
   "source": [
    "# If the above code doesn't work. Trouble shooting by following cells"
   ]
  },
  {
   "cell_type": "code",
   "execution_count": null,
   "metadata": {},
   "outputs": [],
   "source": [
    "#! conda install nodejs --yes"
   ]
  },
  {
   "cell_type": "code",
   "execution_count": null,
   "metadata": {},
   "outputs": [],
   "source": [
    "#! jupyter nbextension enable --py --sys-prefix widgetsnbextension"
   ]
  },
  {
   "cell_type": "markdown",
   "metadata": {},
   "source": [
    "## Tryout ends here "
   ]
  },
  {
   "cell_type": "code",
   "execution_count": null,
   "metadata": {},
   "outputs": [],
   "source": []
  }
 ],
 "metadata": {
  "kernelspec": {
   "display_name": "Python 3",
   "language": "python",
   "name": "python3"
  },
  "language_info": {
   "codemirror_mode": {
    "name": "ipython",
    "version": 3
   },
   "file_extension": ".py",
   "mimetype": "text/x-python",
   "name": "python",
   "nbconvert_exporter": "python",
   "pygments_lexer": "ipython3",
   "version": "3.6.8"
  },
  "metadata": {
   "interpreter": {
    "hash": "31f2aee4e71d21fbe5cf8b01ff0e069b9275f58929596ceb00d14d90e3e16cd6"
   }
  },
  "toc": {
   "base_numbering": 1,
   "nav_menu": {},
   "number_sections": false,
   "sideBar": false,
   "skip_h1_title": false,
   "title_cell": "Table of Contents",
   "title_sidebar": "Contents",
   "toc_cell": false,
   "toc_position": {},
   "toc_section_display": false,
   "toc_window_display": false
  }
 },
 "nbformat": 4,
 "nbformat_minor": 4
}
